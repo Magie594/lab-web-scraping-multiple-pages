{
 "cells": [
  {
   "cell_type": "code",
   "execution_count": 294,
   "id": "65082f0f",
   "metadata": {},
   "outputs": [],
   "source": [
    "from bs4 import BeautifulSoup\n",
    "import requests\n",
    "import pandas as pd"
   ]
  },
  {
   "cell_type": "code",
   "execution_count": 2,
   "id": "b50f0777",
   "metadata": {},
   "outputs": [],
   "source": [
    "url =\"https://en.wikipedia.org/wiki/Python\""
   ]
  },
  {
   "cell_type": "code",
   "execution_count": 16,
   "id": "5857702e",
   "metadata": {},
   "outputs": [
    {
     "data": {
      "text/plain": [
       "200"
      ]
     },
     "execution_count": 16,
     "metadata": {},
     "output_type": "execute_result"
    }
   ],
   "source": [
    "response = requests.get(url)\n",
    "response.status_code"
   ]
  },
  {
   "cell_type": "code",
   "execution_count": 4,
   "id": "eae30ab9",
   "metadata": {},
   "outputs": [],
   "source": [
    "soup = BeautifulSoup(response.content, \"html.parser\")"
   ]
  },
  {
   "cell_type": "code",
   "execution_count": 5,
   "id": "ebd920cc",
   "metadata": {},
   "outputs": [],
   "source": [
    "# soup.select(\"#mw-content-text > div.mw-parser-output\")"
   ]
  },
  {
   "cell_type": "code",
   "execution_count": 6,
   "id": "7fc35689",
   "metadata": {},
   "outputs": [],
   "source": [
    "# soup.select(\"#mw-content-text > div.mw-parser-output > ul:nth-child(7)\")"
   ]
  },
  {
   "cell_type": "code",
   "execution_count": 7,
   "id": "d804c2c7",
   "metadata": {},
   "outputs": [],
   "source": [
    "# soup.select(\"#mw-content-text > div.mw-parser-output > ul > li > a\")"
   ]
  },
  {
   "cell_type": "code",
   "execution_count": 216,
   "id": "605ef705",
   "metadata": {},
   "outputs": [],
   "source": [
    "# wpy =[]\n",
    "\n",
    "# wikipy= soup.select(\"#mw-content-text > div.mw-parser-output > ul > li > a\")\n",
    "\n",
    "# for wikipy in wikipy:\n",
    "#     link = wikipy.get(\"href\")\n",
    "#     print(link)\n",
    "#     if link is not None:\n",
    "#         wpy.append(wikipy[\"href\"])\n",
    "            \n",
    "    \n",
    "  \n",
    "\n",
    "\n",
    "\n"
   ]
  },
  {
   "cell_type": "code",
   "execution_count": 217,
   "id": "e6b917a6",
   "metadata": {},
   "outputs": [],
   "source": [
    "# display(len(wpy))\n",
    "# wpy"
   ]
  },
  {
   "cell_type": "code",
   "execution_count": 215,
   "id": "e223c8b5",
   "metadata": {},
   "outputs": [],
   "source": [
    "# wikilinks = []\n",
    "\n",
    "# for link in wpy:\n",
    "#     url =\"https://en.wikipedia.org/wiki/Python\" + link\n",
    "#     wikilinks.append(url)\n",
    "\n",
    "# wikilinks\n"
   ]
  },
  {
   "cell_type": "code",
   "execution_count": 11,
   "id": "3dff44c6",
   "metadata": {},
   "outputs": [
    {
     "data": {
      "text/html": [
       "<div>\n",
       "<style scoped>\n",
       "    .dataframe tbody tr th:only-of-type {\n",
       "        vertical-align: middle;\n",
       "    }\n",
       "\n",
       "    .dataframe tbody tr th {\n",
       "        vertical-align: top;\n",
       "    }\n",
       "\n",
       "    .dataframe thead th {\n",
       "        text-align: right;\n",
       "    }\n",
       "</style>\n",
       "<table border=\"1\" class=\"dataframe\">\n",
       "  <thead>\n",
       "    <tr style=\"text-align: right;\">\n",
       "      <th></th>\n",
       "      <th>wpy</th>\n",
       "      <th>wikilinks</th>\n",
       "    </tr>\n",
       "  </thead>\n",
       "  <tbody>\n",
       "    <tr>\n",
       "      <th>0</th>\n",
       "      <td>/wiki/Pythonidae</td>\n",
       "      <td>https://en.wikipedia.org/wiki/Python/wiki/Pyth...</td>\n",
       "    </tr>\n",
       "    <tr>\n",
       "      <th>1</th>\n",
       "      <td>/wiki/Python_(mythology)</td>\n",
       "      <td>https://en.wikipedia.org/wiki/Python/wiki/Pyth...</td>\n",
       "    </tr>\n",
       "    <tr>\n",
       "      <th>2</th>\n",
       "      <td>/wiki/Python_(programming_language)</td>\n",
       "      <td>https://en.wikipedia.org/wiki/Python/wiki/Pyth...</td>\n",
       "    </tr>\n",
       "    <tr>\n",
       "      <th>3</th>\n",
       "      <td>/wiki/CMU_Common_Lisp</td>\n",
       "      <td>https://en.wikipedia.org/wiki/Python/wiki/CMU_...</td>\n",
       "    </tr>\n",
       "    <tr>\n",
       "      <th>4</th>\n",
       "      <td>/wiki/PERQ#PERQ_3</td>\n",
       "      <td>https://en.wikipedia.org/wiki/Python/wiki/PERQ...</td>\n",
       "    </tr>\n",
       "    <tr>\n",
       "      <th>5</th>\n",
       "      <td>/wiki/Python_of_Aenus</td>\n",
       "      <td>https://en.wikipedia.org/wiki/Python/wiki/Pyth...</td>\n",
       "    </tr>\n",
       "    <tr>\n",
       "      <th>6</th>\n",
       "      <td>/wiki/Python_(painter)</td>\n",
       "      <td>https://en.wikipedia.org/wiki/Python/wiki/Pyth...</td>\n",
       "    </tr>\n",
       "    <tr>\n",
       "      <th>7</th>\n",
       "      <td>/wiki/Python_of_Byzantium</td>\n",
       "      <td>https://en.wikipedia.org/wiki/Python/wiki/Pyth...</td>\n",
       "    </tr>\n",
       "    <tr>\n",
       "      <th>8</th>\n",
       "      <td>/wiki/Python_of_Catana</td>\n",
       "      <td>https://en.wikipedia.org/wiki/Python/wiki/Pyth...</td>\n",
       "    </tr>\n",
       "    <tr>\n",
       "      <th>9</th>\n",
       "      <td>/wiki/Python_Anghelo</td>\n",
       "      <td>https://en.wikipedia.org/wiki/Python/wiki/Pyth...</td>\n",
       "    </tr>\n",
       "    <tr>\n",
       "      <th>10</th>\n",
       "      <td>/wiki/Python_(Efteling)</td>\n",
       "      <td>https://en.wikipedia.org/wiki/Python/wiki/Pyth...</td>\n",
       "    </tr>\n",
       "    <tr>\n",
       "      <th>11</th>\n",
       "      <td>/wiki/Python_(Busch_Gardens_Tampa_Bay)</td>\n",
       "      <td>https://en.wikipedia.org/wiki/Python/wiki/Pyth...</td>\n",
       "    </tr>\n",
       "    <tr>\n",
       "      <th>12</th>\n",
       "      <td>/wiki/Python_(Coney_Island,_Cincinnati,_Ohio)</td>\n",
       "      <td>https://en.wikipedia.org/wiki/Python/wiki/Pyth...</td>\n",
       "    </tr>\n",
       "    <tr>\n",
       "      <th>13</th>\n",
       "      <td>/wiki/Python_(automobile_maker)</td>\n",
       "      <td>https://en.wikipedia.org/wiki/Python/wiki/Pyth...</td>\n",
       "    </tr>\n",
       "    <tr>\n",
       "      <th>14</th>\n",
       "      <td>/wiki/Python_(Ford_prototype)</td>\n",
       "      <td>https://en.wikipedia.org/wiki/Python/wiki/Pyth...</td>\n",
       "    </tr>\n",
       "    <tr>\n",
       "      <th>15</th>\n",
       "      <td>/wiki/Python_(missile)</td>\n",
       "      <td>https://en.wikipedia.org/wiki/Python/wiki/Pyth...</td>\n",
       "    </tr>\n",
       "    <tr>\n",
       "      <th>16</th>\n",
       "      <td>/wiki/Python_(nuclear_primary)</td>\n",
       "      <td>https://en.wikipedia.org/wiki/Python/wiki/Pyth...</td>\n",
       "    </tr>\n",
       "    <tr>\n",
       "      <th>17</th>\n",
       "      <td>/wiki/Colt_Python</td>\n",
       "      <td>https://en.wikipedia.org/wiki/Python/wiki/Colt...</td>\n",
       "    </tr>\n",
       "    <tr>\n",
       "      <th>18</th>\n",
       "      <td>/wiki/Python_(codename)</td>\n",
       "      <td>https://en.wikipedia.org/wiki/Python/wiki/Pyth...</td>\n",
       "    </tr>\n",
       "    <tr>\n",
       "      <th>19</th>\n",
       "      <td>/wiki/Python_(film)</td>\n",
       "      <td>https://en.wikipedia.org/wiki/Python/wiki/Pyth...</td>\n",
       "    </tr>\n",
       "    <tr>\n",
       "      <th>20</th>\n",
       "      <td>/wiki/Monty_Python</td>\n",
       "      <td>https://en.wikipedia.org/wiki/Python/wiki/Mont...</td>\n",
       "    </tr>\n",
       "    <tr>\n",
       "      <th>21</th>\n",
       "      <td>/wiki/Timon_of_Phlius</td>\n",
       "      <td>https://en.wikipedia.org/wiki/Python/wiki/Timo...</td>\n",
       "    </tr>\n",
       "    <tr>\n",
       "      <th>22</th>\n",
       "      <td>/wiki/Pithon</td>\n",
       "      <td>https://en.wikipedia.org/wiki/Python/wiki/Pithon</td>\n",
       "    </tr>\n",
       "  </tbody>\n",
       "</table>\n",
       "</div>"
      ],
      "text/plain": [
       "                                              wpy  \\\n",
       "0                                /wiki/Pythonidae   \n",
       "1                        /wiki/Python_(mythology)   \n",
       "2             /wiki/Python_(programming_language)   \n",
       "3                           /wiki/CMU_Common_Lisp   \n",
       "4                               /wiki/PERQ#PERQ_3   \n",
       "5                           /wiki/Python_of_Aenus   \n",
       "6                          /wiki/Python_(painter)   \n",
       "7                       /wiki/Python_of_Byzantium   \n",
       "8                          /wiki/Python_of_Catana   \n",
       "9                            /wiki/Python_Anghelo   \n",
       "10                        /wiki/Python_(Efteling)   \n",
       "11         /wiki/Python_(Busch_Gardens_Tampa_Bay)   \n",
       "12  /wiki/Python_(Coney_Island,_Cincinnati,_Ohio)   \n",
       "13                /wiki/Python_(automobile_maker)   \n",
       "14                  /wiki/Python_(Ford_prototype)   \n",
       "15                         /wiki/Python_(missile)   \n",
       "16                 /wiki/Python_(nuclear_primary)   \n",
       "17                              /wiki/Colt_Python   \n",
       "18                        /wiki/Python_(codename)   \n",
       "19                            /wiki/Python_(film)   \n",
       "20                             /wiki/Monty_Python   \n",
       "21                          /wiki/Timon_of_Phlius   \n",
       "22                                   /wiki/Pithon   \n",
       "\n",
       "                                            wikilinks  \n",
       "0   https://en.wikipedia.org/wiki/Python/wiki/Pyth...  \n",
       "1   https://en.wikipedia.org/wiki/Python/wiki/Pyth...  \n",
       "2   https://en.wikipedia.org/wiki/Python/wiki/Pyth...  \n",
       "3   https://en.wikipedia.org/wiki/Python/wiki/CMU_...  \n",
       "4   https://en.wikipedia.org/wiki/Python/wiki/PERQ...  \n",
       "5   https://en.wikipedia.org/wiki/Python/wiki/Pyth...  \n",
       "6   https://en.wikipedia.org/wiki/Python/wiki/Pyth...  \n",
       "7   https://en.wikipedia.org/wiki/Python/wiki/Pyth...  \n",
       "8   https://en.wikipedia.org/wiki/Python/wiki/Pyth...  \n",
       "9   https://en.wikipedia.org/wiki/Python/wiki/Pyth...  \n",
       "10  https://en.wikipedia.org/wiki/Python/wiki/Pyth...  \n",
       "11  https://en.wikipedia.org/wiki/Python/wiki/Pyth...  \n",
       "12  https://en.wikipedia.org/wiki/Python/wiki/Pyth...  \n",
       "13  https://en.wikipedia.org/wiki/Python/wiki/Pyth...  \n",
       "14  https://en.wikipedia.org/wiki/Python/wiki/Pyth...  \n",
       "15  https://en.wikipedia.org/wiki/Python/wiki/Pyth...  \n",
       "16  https://en.wikipedia.org/wiki/Python/wiki/Pyth...  \n",
       "17  https://en.wikipedia.org/wiki/Python/wiki/Colt...  \n",
       "18  https://en.wikipedia.org/wiki/Python/wiki/Pyth...  \n",
       "19  https://en.wikipedia.org/wiki/Python/wiki/Pyth...  \n",
       "20  https://en.wikipedia.org/wiki/Python/wiki/Mont...  \n",
       "21  https://en.wikipedia.org/wiki/Python/wiki/Timo...  \n",
       "22   https://en.wikipedia.org/wiki/Python/wiki/Pithon  "
      ]
     },
     "execution_count": 11,
     "metadata": {},
     "output_type": "execute_result"
    }
   ],
   "source": [
    "py_links = pd.DataFrame({\"wpy\":wpy,\"wikilinks\":wikilinks})\n",
    "py_links"
   ]
  },
  {
   "cell_type": "markdown",
   "id": "3743f258",
   "metadata": {},
   "source": [
    "2. Find the number of titles that have changed in the United States Code since its last release point: url = 'http://uscode.house.gov/download/download.shtml'"
   ]
  },
  {
   "cell_type": "code",
   "execution_count": 66,
   "id": "88c2be7c",
   "metadata": {},
   "outputs": [],
   "source": [
    "url =\"http://uscode.house.gov/download/download.shtml\""
   ]
  },
  {
   "cell_type": "code",
   "execution_count": 67,
   "id": "b3548ced",
   "metadata": {},
   "outputs": [
    {
     "data": {
      "text/plain": [
       "200"
      ]
     },
     "execution_count": 67,
     "metadata": {},
     "output_type": "execute_result"
    }
   ],
   "source": [
    "response = requests.get(url)\n",
    "response.status_code"
   ]
  },
  {
   "cell_type": "code",
   "execution_count": 68,
   "id": "b5744a10",
   "metadata": {},
   "outputs": [],
   "source": [
    "soup = BeautifulSoup(response.content, \"html.parser\")"
   ]
  },
  {
   "cell_type": "code",
   "execution_count": 69,
   "id": "84ad8e7c",
   "metadata": {},
   "outputs": [],
   "source": [
    "# soup.select=(\"#content > div > div > div.usctitle> div:nth-child(4)\")                  "
   ]
  },
  {
   "cell_type": "code",
   "execution_count": 63,
   "id": "325feed3",
   "metadata": {},
   "outputs": [],
   "source": [
    "# usctitle = soup.find_all('div', attrs={'class': 'usctitle'})\n",
    "# usctitle"
   ]
  },
  {
   "cell_type": "code",
   "execution_count": 70,
   "id": "b9acd634",
   "metadata": {},
   "outputs": [
    {
     "name": "stdout",
     "output_type": "stream",
     "text": [
      "55\n"
     ]
    }
   ],
   "source": [
    "print(len(usctitle))"
   ]
  },
  {
   "cell_type": "markdown",
   "id": "8adb6c3c",
   "metadata": {},
   "source": [
    "3.Create a Python list with the top ten FBI's Most Wanted names: url = 'https://www.fbi.gov/wanted/topten'"
   ]
  },
  {
   "cell_type": "code",
   "execution_count": 14,
   "id": "df8c1a4e",
   "metadata": {},
   "outputs": [],
   "source": [
    "url =\"https://www.fbi.gov/wanted/topten\""
   ]
  },
  {
   "cell_type": "code",
   "execution_count": 18,
   "id": "91103d4f",
   "metadata": {},
   "outputs": [
    {
     "data": {
      "text/plain": [
       "200"
      ]
     },
     "execution_count": 18,
     "metadata": {},
     "output_type": "execute_result"
    }
   ],
   "source": [
    "response = requests.get(url)\n",
    "response.status_code"
   ]
  },
  {
   "cell_type": "code",
   "execution_count": 19,
   "id": "7b333bb9",
   "metadata": {},
   "outputs": [],
   "source": [
    "soup = BeautifulSoup(response.content, \"html.parser\")"
   ]
  },
  {
   "cell_type": "code",
   "execution_count": 39,
   "id": "6fff9bff",
   "metadata": {},
   "outputs": [],
   "source": [
    "# soup.select(\"#query-results-0f737222c5054a81a120bce207b0446a > ul > li:nth-child(1) > h3\")"
   ]
  },
  {
   "cell_type": "code",
   "execution_count": 40,
   "id": "e873a64b",
   "metadata": {},
   "outputs": [],
   "source": [
    "# fbi_most_wanted= soup.find_all('h3')\n",
    "# fbi_most_wanted"
   ]
  },
  {
   "cell_type": "code",
   "execution_count": 41,
   "id": "ab832a55",
   "metadata": {},
   "outputs": [],
   "source": [
    "# display(len(fbi_most_wanted))\n",
    "# fbi_most_wanted"
   ]
  },
  {
   "cell_type": "code",
   "execution_count": 38,
   "id": "71af1e8b",
   "metadata": {},
   "outputs": [
    {
     "name": "stdout",
     "output_type": "stream",
     "text": [
      "\n",
      "ALEJANDRO ROSALES CASTILLO\n",
      "\n",
      "\n",
      "RUJA IGNATOVA\n",
      "\n",
      "\n",
      "DONALD EUGENE FIELDS II\n",
      "\n",
      "\n",
      "ALEXIS FLORES\n",
      "\n",
      "\n",
      "ARNOLDO JIMENEZ\n",
      "\n",
      "\n",
      "OMAR ALEXANDER CARDENAS\n",
      "\n",
      "\n",
      "YULAN ADONAY ARCHAGA CARIAS\n",
      "\n",
      "\n",
      "BHADRESHKUMAR CHETANBHAI PATEL\n",
      "\n",
      "\n",
      "WILVER VILLEGAS-PALOMINO\n",
      "\n",
      "\n",
      "JOSE RODOLFO VILLARREAL-HERNANDEZ\n",
      "\n",
      "federal bureau of investigation\n",
      "\n",
      "FBI.gov Contact Center\n",
      "\n"
     ]
    }
   ],
   "source": [
    "fbi_most_wanted = soup.find_all('h3')\n",
    "for i in fbi_most_wanted:\n",
    "    print(i.text)"
   ]
  },
  {
   "cell_type": "markdown",
   "id": "0eaf9267",
   "metadata": {},
   "source": [
    "4. List all language names and number of related articles in the order they appear in wikipedia.org: url = 'https://www.wikipedia.org/'"
   ]
  },
  {
   "cell_type": "code",
   "execution_count": 171,
   "id": "f259af76",
   "metadata": {},
   "outputs": [],
   "source": [
    "url =\"https://www.wikipedia.org/\""
   ]
  },
  {
   "cell_type": "code",
   "execution_count": 172,
   "id": "3956d087",
   "metadata": {},
   "outputs": [
    {
     "data": {
      "text/plain": [
       "200"
      ]
     },
     "execution_count": 172,
     "metadata": {},
     "output_type": "execute_result"
    }
   ],
   "source": [
    "response = requests.get(url)\n",
    "response.status_code"
   ]
  },
  {
   "cell_type": "code",
   "execution_count": 173,
   "id": "455f0a36",
   "metadata": {},
   "outputs": [],
   "source": [
    "soup = BeautifulSoup(response.content, \"html.parser\")"
   ]
  },
  {
   "cell_type": "code",
   "execution_count": 178,
   "id": "d244073e",
   "metadata": {},
   "outputs": [],
   "source": [
    "# soup"
   ]
  },
  {
   "cell_type": "code",
   "execution_count": 179,
   "id": "4a230490",
   "metadata": {},
   "outputs": [],
   "source": [
    "# lang_names_numbers = soup.find_all(\"strong\")\n",
    "# lang_names_numbers"
   ]
  },
  {
   "cell_type": "code",
   "execution_count": 176,
   "id": "15df95fb",
   "metadata": {},
   "outputs": [
    {
     "data": {
      "text/plain": [
       "['The Free Encyclopedia',\n",
       " 'English',\n",
       " '日本語',\n",
       " 'Español',\n",
       " 'Русский',\n",
       " 'Deutsch',\n",
       " 'Français',\n",
       " 'Italiano',\n",
       " '中文',\n",
       " 'Português',\n",
       " 'العربية',\n",
       " '\\n\\nDownload Wikipedia for Android or iOS\\n\\n']"
      ]
     },
     "execution_count": 176,
     "metadata": {},
     "output_type": "execute_result"
    }
   ],
   "source": [
    "lang_names_numbers = [x.get_text() for x in soup.find_all(\"strong\")]\n",
    "lang_names_numbers"
   ]
  },
  {
   "cell_type": "code",
   "execution_count": 177,
   "id": "61538bc0",
   "metadata": {},
   "outputs": [
    {
     "name": "stdout",
     "output_type": "stream",
     "text": [
      "12\n"
     ]
    }
   ],
   "source": [
    "print(len(lang_names_numbers))"
   ]
  },
  {
   "cell_type": "markdown",
   "id": "18297b04",
   "metadata": {},
   "source": [
    "5. # A list with the different kind of datasets available in data.gov.uk: url = 'https://data.gov.uk/'"
   ]
  },
  {
   "cell_type": "code",
   "execution_count": 156,
   "id": "dbaa2f0d",
   "metadata": {},
   "outputs": [],
   "source": [
    "url = \"https://data.gov.uk/\""
   ]
  },
  {
   "cell_type": "code",
   "execution_count": 157,
   "id": "07105272",
   "metadata": {},
   "outputs": [
    {
     "data": {
      "text/plain": [
       "200"
      ]
     },
     "execution_count": 157,
     "metadata": {},
     "output_type": "execute_result"
    }
   ],
   "source": [
    "response = requests.get(url)\n",
    "response.status_code"
   ]
  },
  {
   "cell_type": "code",
   "execution_count": 158,
   "id": "0fa06392",
   "metadata": {},
   "outputs": [],
   "source": [
    "soup = BeautifulSoup(response.content, \"html.parser\")"
   ]
  },
  {
   "cell_type": "code",
   "execution_count": 159,
   "id": "73ae5b24",
   "metadata": {},
   "outputs": [],
   "source": [
    "# soup"
   ]
  },
  {
   "cell_type": "code",
   "execution_count": 160,
   "id": "484d4a74",
   "metadata": {},
   "outputs": [],
   "source": [
    "# soup.select=(\"#main-content > div:nth-child(3) > div > ul > li:nth-child(1) > h3\")"
   ]
  },
  {
   "cell_type": "code",
   "execution_count": 161,
   "id": "49dccd90",
   "metadata": {},
   "outputs": [],
   "source": [
    "# datasets = soup.find_all('h3')\n",
    "# datasets"
   ]
  },
  {
   "cell_type": "code",
   "execution_count": 162,
   "id": "c840ef04",
   "metadata": {},
   "outputs": [
    {
     "name": "stdout",
     "output_type": "stream",
     "text": [
      "Business and economy\n",
      "Crime and justice\n",
      "Defence\n",
      "Education\n",
      "Environment\n",
      "Government\n",
      "Government spending\n",
      "Health\n",
      "Mapping\n",
      "Society\n",
      "Towns and cities\n",
      "Transport\n",
      "Digital service performance\n",
      "Government reference data\n"
     ]
    }
   ],
   "source": [
    "datasets = soup.find_all('h3')\n",
    "for i in datasets:\n",
    "    print(i.text)"
   ]
  },
  {
   "cell_type": "markdown",
   "id": "a2d4e371",
   "metadata": {},
   "source": [
    "6.  Display the top 10 languages by number of native speakers stored in a pandas dataframe: url = 'https://en.wikipedia.org/wiki/List_of_languages_by_number_of_native_speakers'"
   ]
  },
  {
   "cell_type": "code",
   "execution_count": 295,
   "id": "b0b21bda",
   "metadata": {},
   "outputs": [],
   "source": [
    "url =\"https://en.wikipedia.org/wiki/List_of_languages_by_number_of_native_speakers\""
   ]
  },
  {
   "cell_type": "code",
   "execution_count": 296,
   "id": "4f04a165",
   "metadata": {},
   "outputs": [
    {
     "data": {
      "text/plain": [
       "200"
      ]
     },
     "execution_count": 296,
     "metadata": {},
     "output_type": "execute_result"
    }
   ],
   "source": [
    "response = requests.get(url)\n",
    "response.status_code"
   ]
  },
  {
   "cell_type": "code",
   "execution_count": 297,
   "id": "06fbaa4b",
   "metadata": {},
   "outputs": [],
   "source": [
    "soup = BeautifulSoup(response.content, \"html.parser\")"
   ]
  },
  {
   "cell_type": "code",
   "execution_count": 340,
   "id": "10dd90e2",
   "metadata": {},
   "outputs": [],
   "source": [
    "# soup"
   ]
  },
  {
   "cell_type": "code",
   "execution_count": 299,
   "id": "56a8c853",
   "metadata": {},
   "outputs": [],
   "source": [
    "soup.select=(\"#mw-content-text > div.mw-parser-output > table.wikitable.sortable.static-row-numbers.jquery-tablesorter > tbody > tr:nth-child(1) > td:nth-child(1) > a.mw-redirect\")"
   ]
  },
  {
   "cell_type": "code",
   "execution_count": 300,
   "id": "2bc0e244",
   "metadata": {},
   "outputs": [],
   "source": [
    "soup.select=(\"#mw-content-text > div.mw-parser-output > table.wikitable.sortable.static-row-numbers.jquery-tablesorter\")"
   ]
  },
  {
   "cell_type": "code",
   "execution_count": 338,
   "id": "cc1e6c84",
   "metadata": {},
   "outputs": [],
   "source": [
    "# table.select(\"tbody tr td a\")"
   ]
  },
  {
   "cell_type": "code",
   "execution_count": 339,
   "id": "a8322f5b",
   "metadata": {},
   "outputs": [],
   "source": [
    "# souplist = table.select('a.mw-redirect')\n",
    "# souplist"
   ]
  },
  {
   "cell_type": "code",
   "execution_count": 336,
   "id": "63dd9fee",
   "metadata": {},
   "outputs": [],
   "source": [
    "languages = []\n",
    "count= 0 \n",
    "for e in table.select('a.mw-redirect'):\n",
    "    if count < 10:\n",
    "        language = e.get_text()\n",
    "        if language is not None:\n",
    "            languages.append(e.get_text())\n",
    "        count = count +1\n",
    "        \n",
    "        \n"
   ]
  },
  {
   "cell_type": "code",
   "execution_count": 337,
   "id": "905da5e3",
   "metadata": {},
   "outputs": [
    {
     "data": {
      "text/html": [
       "<div>\n",
       "<style scoped>\n",
       "    .dataframe tbody tr th:only-of-type {\n",
       "        vertical-align: middle;\n",
       "    }\n",
       "\n",
       "    .dataframe tbody tr th {\n",
       "        vertical-align: top;\n",
       "    }\n",
       "\n",
       "    .dataframe thead th {\n",
       "        text-align: right;\n",
       "    }\n",
       "</style>\n",
       "<table border=\"1\" class=\"dataframe\">\n",
       "  <thead>\n",
       "    <tr style=\"text-align: right;\">\n",
       "      <th></th>\n",
       "      <th>languages</th>\n",
       "    </tr>\n",
       "  </thead>\n",
       "  <tbody>\n",
       "    <tr>\n",
       "      <th>0</th>\n",
       "      <td>Mandarin Chinese</td>\n",
       "    </tr>\n",
       "    <tr>\n",
       "      <th>1</th>\n",
       "      <td>Spanish</td>\n",
       "    </tr>\n",
       "    <tr>\n",
       "      <th>2</th>\n",
       "      <td>English</td>\n",
       "    </tr>\n",
       "    <tr>\n",
       "      <th>3</th>\n",
       "      <td>Hindi</td>\n",
       "    </tr>\n",
       "    <tr>\n",
       "      <th>4</th>\n",
       "      <td>Portuguese</td>\n",
       "    </tr>\n",
       "    <tr>\n",
       "      <th>5</th>\n",
       "      <td>Bengali</td>\n",
       "    </tr>\n",
       "    <tr>\n",
       "      <th>6</th>\n",
       "      <td>Russian</td>\n",
       "    </tr>\n",
       "    <tr>\n",
       "      <th>7</th>\n",
       "      <td>Japanese</td>\n",
       "    </tr>\n",
       "    <tr>\n",
       "      <th>8</th>\n",
       "      <td>Yue Chinese</td>\n",
       "    </tr>\n",
       "    <tr>\n",
       "      <th>9</th>\n",
       "      <td>Vietnamese</td>\n",
       "    </tr>\n",
       "  </tbody>\n",
       "</table>\n",
       "</div>"
      ],
      "text/plain": [
       "          languages\n",
       "0  Mandarin Chinese\n",
       "1           Spanish\n",
       "2           English\n",
       "3             Hindi\n",
       "4        Portuguese\n",
       "5           Bengali\n",
       "6           Russian\n",
       "7          Japanese\n",
       "8       Yue Chinese\n",
       "9        Vietnamese"
      ]
     },
     "execution_count": 337,
     "metadata": {},
     "output_type": "execute_result"
    }
   ],
   "source": [
    "languages = pd.DataFrame({\"languages\":languages})\n",
    "\n",
    "languages"
   ]
  },
  {
   "cell_type": "markdown",
   "id": "20d86492",
   "metadata": {},
   "source": [
    "# Thanks Diego!"
   ]
  },
  {
   "cell_type": "code",
   "execution_count": null,
   "id": "73c162c5",
   "metadata": {},
   "outputs": [],
   "source": []
  }
 ],
 "metadata": {
  "kernelspec": {
   "display_name": "Python 3 (ipykernel)",
   "language": "python",
   "name": "python3"
  },
  "language_info": {
   "codemirror_mode": {
    "name": "ipython",
    "version": 3
   },
   "file_extension": ".py",
   "mimetype": "text/x-python",
   "name": "python",
   "nbconvert_exporter": "python",
   "pygments_lexer": "ipython3",
   "version": "3.10.9"
  }
 },
 "nbformat": 4,
 "nbformat_minor": 5
}
