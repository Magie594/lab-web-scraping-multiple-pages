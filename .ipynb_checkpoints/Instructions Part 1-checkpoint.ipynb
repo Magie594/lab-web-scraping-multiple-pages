{
 "cells": [
  {
   "cell_type": "code",
   "execution_count": 2,
   "id": "0e2f58fd",
   "metadata": {},
   "outputs": [],
   "source": [
    "from bs4 import BeautifulSoup\n",
    "import requests\n",
    "import pandas as pd"
   ]
  },
  {
   "cell_type": "code",
   "execution_count": 68,
   "id": "475a4c12",
   "metadata": {},
   "outputs": [],
   "source": [
    "url =\"https://en.wikipedia.org/wiki/List_of_number-one_songs_in_Norway\""
   ]
  },
  {
   "cell_type": "code",
   "execution_count": 69,
   "id": "1eabde91",
   "metadata": {},
   "outputs": [
    {
     "data": {
      "text/plain": [
       "200"
      ]
     },
     "execution_count": 69,
     "metadata": {},
     "output_type": "execute_result"
    }
   ],
   "source": [
    "response = requests.get(url)\n",
    "response.status_code"
   ]
  },
  {
   "cell_type": "code",
   "execution_count": 70,
   "id": "98714138",
   "metadata": {},
   "outputs": [],
   "source": [
    "soup = BeautifulSoup(response.content, \"html.parser\")"
   ]
  },
  {
   "cell_type": "code",
   "execution_count": 59,
   "id": "097a3f22",
   "metadata": {},
   "outputs": [],
   "source": [
    "# soup"
   ]
  },
  {
   "cell_type": "code",
   "execution_count": 60,
   "id": "368f3955",
   "metadata": {},
   "outputs": [
    {
     "data": {
      "text/plain": [
       "[]"
      ]
     },
     "execution_count": 60,
     "metadata": {},
     "output_type": "execute_result"
    }
   ],
   "source": [
    "soup.select(\"#mw-content-text > div.mw-parser-output > table:nth-child(6) > tbody > tr:nth-child(1) > td:nth-child(2)\")"
   ]
  },
  {
   "cell_type": "code",
   "execution_count": 61,
   "id": "a8a63e84",
   "metadata": {},
   "outputs": [],
   "source": [
    "#mw-content-text > div.mw-parser-output > table.wikitable.sortable.plainrowheaders.jquery-tablesorter"
   ]
  },
  {
   "cell_type": "code",
   "execution_count": 71,
   "id": "1f8e25c5",
   "metadata": {},
   "outputs": [],
   "source": [
    "tab= soup.select(\"table\")[0]"
   ]
  },
  {
   "cell_type": "code",
   "execution_count": 77,
   "id": "fce239df",
   "metadata": {},
   "outputs": [],
   "source": [
    "# tab.select(\"tbody tr td a\")"
   ]
  },
  {
   "cell_type": "code",
   "execution_count": 73,
   "id": "5018428d",
   "metadata": {},
   "outputs": [],
   "source": [
    "table = soup.select('table')[0]\n",
    "table.select('tbody tr td a')\n",
    "songs = []\n",
    "for e in table.select('tbody tr td a'):\n",
    "    song = e.get(\"title\")\n",
    "    if song is not None:\n",
    "        songs.append(e[\"title\"])"
   ]
  },
  {
   "cell_type": "code",
   "execution_count": 78,
   "id": "f17c33a9",
   "metadata": {},
   "outputs": [],
   "source": [
    "# songs"
   ]
  },
  {
   "cell_type": "code",
   "execution_count": 75,
   "id": "7756f7a0",
   "metadata": {},
   "outputs": [],
   "source": [
    "songs = pd.DataFrame({\"titles\": songs})\n"
   ]
  },
  {
   "cell_type": "code",
   "execution_count": 76,
   "id": "d8f548a5",
   "metadata": {},
   "outputs": [
    {
     "data": {
      "text/html": [
       "<div>\n",
       "<style scoped>\n",
       "    .dataframe tbody tr th:only-of-type {\n",
       "        vertical-align: middle;\n",
       "    }\n",
       "\n",
       "    .dataframe tbody tr th {\n",
       "        vertical-align: top;\n",
       "    }\n",
       "\n",
       "    .dataframe thead th {\n",
       "        text-align: right;\n",
       "    }\n",
       "</style>\n",
       "<table border=\"1\" class=\"dataframe\">\n",
       "  <thead>\n",
       "    <tr style=\"text-align: right;\">\n",
       "      <th></th>\n",
       "      <th>titles</th>\n",
       "    </tr>\n",
       "  </thead>\n",
       "  <tbody>\n",
       "    <tr>\n",
       "      <th>0</th>\n",
       "      <td>Cotton Eye Joe (Rednex song)</td>\n",
       "    </tr>\n",
       "    <tr>\n",
       "      <th>1</th>\n",
       "      <td>Old Pop in an Oak</td>\n",
       "    </tr>\n",
       "    <tr>\n",
       "      <th>2</th>\n",
       "      <td>Scatman (Ski Ba Bop Ba Dop Bop)</td>\n",
       "    </tr>\n",
       "    <tr>\n",
       "      <th>3</th>\n",
       "      <td>Think Twice (Celine Dion song)</td>\n",
       "    </tr>\n",
       "    <tr>\n",
       "      <th>4</th>\n",
       "      <td>Self Esteem (song)</td>\n",
       "    </tr>\n",
       "    <tr>\n",
       "      <th>...</th>\n",
       "      <td>...</td>\n",
       "    </tr>\n",
       "    <tr>\n",
       "      <th>147</th>\n",
       "      <td>Human (The Killers song)</td>\n",
       "    </tr>\n",
       "    <tr>\n",
       "      <th>148</th>\n",
       "      <td>Womanizer (song)</td>\n",
       "    </tr>\n",
       "    <tr>\n",
       "      <th>149</th>\n",
       "      <td>If I Were a Boy</td>\n",
       "    </tr>\n",
       "    <tr>\n",
       "      <th>150</th>\n",
       "      <td>Chinese Democracy (song)</td>\n",
       "    </tr>\n",
       "    <tr>\n",
       "      <th>151</th>\n",
       "      <td>Oro jaska, beana</td>\n",
       "    </tr>\n",
       "  </tbody>\n",
       "</table>\n",
       "<p>152 rows × 1 columns</p>\n",
       "</div>"
      ],
      "text/plain": [
       "                              titles\n",
       "0       Cotton Eye Joe (Rednex song)\n",
       "1                  Old Pop in an Oak\n",
       "2    Scatman (Ski Ba Bop Ba Dop Bop)\n",
       "3     Think Twice (Celine Dion song)\n",
       "4                 Self Esteem (song)\n",
       "..                               ...\n",
       "147         Human (The Killers song)\n",
       "148                 Womanizer (song)\n",
       "149                  If I Were a Boy\n",
       "150         Chinese Democracy (song)\n",
       "151                 Oro jaska, beana\n",
       "\n",
       "[152 rows x 1 columns]"
      ]
     },
     "execution_count": 76,
     "metadata": {},
     "output_type": "execute_result"
    }
   ],
   "source": [
    "songs"
   ]
  },
  {
   "cell_type": "code",
   "execution_count": null,
   "id": "1966cf8e",
   "metadata": {},
   "outputs": [],
   "source": []
  }
 ],
 "metadata": {
  "kernelspec": {
   "display_name": "Python 3 (ipykernel)",
   "language": "python",
   "name": "python3"
  },
  "language_info": {
   "codemirror_mode": {
    "name": "ipython",
    "version": 3
   },
   "file_extension": ".py",
   "mimetype": "text/x-python",
   "name": "python",
   "nbconvert_exporter": "python",
   "pygments_lexer": "ipython3",
   "version": "3.10.9"
  }
 },
 "nbformat": 4,
 "nbformat_minor": 5
}
